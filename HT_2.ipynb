{
 "cells": [
  {
   "cell_type": "markdown",
   "metadata": {},
   "source": [
    "### Задание 1"
   ]
  },
  {
   "cell_type": "code",
   "execution_count": 10,
   "metadata": {},
   "outputs": [
    {
     "name": "stdout",
     "output_type": "stream",
     "text": [
      "Ведите слово:test\n",
      "e s\n"
     ]
    }
   ],
   "source": [
    "## вводим слово\n",
    "s = input ('Ведите слово:')\n",
    "\n",
    "## считаем длину строки, чтобы при делении первая часть была больше\n",
    "l = len(s) +1 \n",
    "## длина первой части от начала до /2\n",
    "part_1 = s[0:l//2]\n",
    "## длина второй части от /2 до конца\n",
    "part_2 = s[l//2:]\n",
    "## условие\n",
    "if len(part_1) == len(part_2):\n",
    "    print (part_1[-1],part_2[0])\n",
    "    \n",
    "if len(part_1) != len(part_2):\n",
    "    print (part_1[-1])"
   ]
  },
  {
   "cell_type": "code",
   "execution_count": 12,
   "metadata": {},
   "outputs": [
    {
     "name": "stdout",
     "output_type": "stream",
     "text": [
      "Ведите слово:testing\n",
      "t\n"
     ]
    }
   ],
   "source": [
    "## вводим слово\n",
    "s = input ('Ведите слово:')\n",
    "\n",
    "## считаем длину строки, чтобы при делении первая часть была больше\n",
    "l = len(s) +1 \n",
    "## длина первой части от начала до /2\n",
    "part_1 = s[0:l//2]\n",
    "## длина второй части от /2 до конца\n",
    "part_2 = s[l//2:]\n",
    "## условие\n",
    "if len(part_1) == len(part_2):\n",
    "    print (part_1[-1],part_2[0])\n",
    "    \n",
    "if len(part_1) != len(part_2):\n",
    "    print (part_1[-1])"
   ]
  },
  {
   "cell_type": "markdown",
   "metadata": {},
   "source": [
    "### Задание 2"
   ]
  },
  {
   "cell_type": "code",
   "execution_count": 15,
   "metadata": {},
   "outputs": [
    {
     "name": "stdout",
     "output_type": "stream",
     "text": [
      "1\n",
      "4\n",
      "6\n",
      "0\n",
      "Результат:  11\n"
     ]
    }
   ],
   "source": [
    "# вводим число:\n",
    "n = 0\n",
    "# сумма:\n",
    "sum_n = 0\n",
    "while True:\n",
    "    a = int(input())\n",
    " \n",
    "    # Если 0:\n",
    "    if a == 0:\n",
    "        break\n",
    "    else:\n",
    "        sum_n += a\n",
    "print('Результат: ', sum_n)"
   ]
  },
  {
   "cell_type": "code",
   "execution_count": 16,
   "metadata": {},
   "outputs": [
    {
     "name": "stdout",
     "output_type": "stream",
     "text": [
      "0\n",
      "Результат:  0\n"
     ]
    }
   ],
   "source": [
    "# вводим число:\n",
    "n = 0\n",
    "# сумма:\n",
    "sum_n = 0\n",
    "while True:\n",
    "    a = int(input())\n",
    " \n",
    "    # Если 0:\n",
    "    if a == 0:\n",
    "        break\n",
    "    else:\n",
    "        sum_n += a\n",
    "print('Результат: ', sum_n)"
   ]
  },
  {
   "cell_type": "markdown",
   "metadata": {},
   "source": [
    "### Задание 3"
   ]
  },
  {
   "cell_type": "code",
   "execution_count": 1,
   "metadata": {},
   "outputs": [
    {
     "name": "stdout",
     "output_type": "stream",
     "text": [
      "['Alex', 'Arthur', 'John', 'Peter', 'Richard']\n"
     ]
    }
   ],
   "source": [
    "### Сортируем по алфавиту мужчин\n",
    "boys = ['Peter', 'Alex', 'John', 'Arthur', 'Richard']\n",
    "boys.sort()\n",
    "print(boys)"
   ]
  },
  {
   "cell_type": "code",
   "execution_count": 2,
   "metadata": {},
   "outputs": [
    {
     "name": "stdout",
     "output_type": "stream",
     "text": [
      "['Emma', 'Kate', 'Kira', 'Liza', 'Trisha']\n"
     ]
    }
   ],
   "source": [
    "### Сортируем по алфавиту женщин\n",
    "girls = ['Kate', 'Liza', 'Kira', 'Emma', 'Trisha']\n",
    "girls.sort()\n",
    "print(girls)"
   ]
  },
  {
   "cell_type": "code",
   "execution_count": 3,
   "metadata": {},
   "outputs": [
    {
     "name": "stdout",
     "output_type": "stream",
     "text": [
      "<zip object at 0x0000000004A6E540>\n"
     ]
    }
   ],
   "source": [
    "### Создаем идеальные пары\n",
    "ideal_pairs=zip(sorted(boys),sorted(girls))\n",
    "print(ideal_pairs)"
   ]
  },
  {
   "cell_type": "code",
   "execution_count": 4,
   "metadata": {},
   "outputs": [
    {
     "data": {
      "text/plain": [
       "[('Alex', 'Emma'),\n",
       " ('Arthur', 'Kate'),\n",
       " ('John', 'Kira'),\n",
       " ('Peter', 'Liza'),\n",
       " ('Richard', 'Trisha')]"
      ]
     },
     "execution_count": 4,
     "metadata": {},
     "output_type": "execute_result"
    }
   ],
   "source": [
    "list(ideal_pairs)"
   ]
  },
  {
   "cell_type": "code",
   "execution_count": 5,
   "metadata": {},
   "outputs": [
    {
     "data": {
      "text/plain": [
       "['Peter', 'Alex', 'John', 'Arthur', 'Richard', 'Michael']"
      ]
     },
     "execution_count": 5,
     "metadata": {},
     "output_type": "execute_result"
    }
   ],
   "source": [
    "### Добавляем мужчину\n",
    "boys = ['Peter', 'Alex', 'John', 'Arthur', 'Richard']\n",
    "girls = ['Kate', 'Liza', 'Kira', 'Emma', 'Trisha']\n",
    "boys.append('Michael')\n",
    "boys"
   ]
  },
  {
   "cell_type": "code",
   "execution_count": null,
   "metadata": {},
   "outputs": [],
   "source": [
    "if len(boys)==len(girls):\n",
    "    \n",
    "    print('Идеальная пара')\n",
    "\n",
    "if len(boys)!=len(girls):\n",
    "    print('Кто-то может остаться без пары')"
   ]
  },
  {
   "cell_type": "markdown",
   "metadata": {},
   "source": [
    "### Задание 4"
   ]
  },
  {
   "cell_type": "code",
   "execution_count": 1,
   "metadata": {},
   "outputs": [
    {
     "name": "stdout",
     "output_type": "stream",
     "text": [
      "Thailand - 23.857142857142854 С\n",
      "Germany - 13.799999999999997 С\n",
      "Russia - 3.7142857142857166 С\n",
      "Poland - 11.999999999999996 С\n"
     ]
    }
   ],
   "source": [
    "countries_temperature = [\n",
    "['Thailand', [75.2, 77, 78.8, 73.4, 68, 75.2, 77]],\n",
    "['Germany', [57.2, 55.4, 59, 59, 53.6]],\n",
    "['Russia', [35.6, 37.4, 39.2, 41, 42.8, 39.2, 35.6]],\n",
    "['Poland', [50, 50, 53.6, 57.2, 55.4, 55.4]]\n",
    "]\n",
    "\n",
    "### цикл(как сделать округление пока не разобралась)\n",
    "for i in countries_temperature:\n",
    "    print(i[0], '-', float(sum(i[1]) / len(i[1]) - 32 ) / 1.8, 'С')"
   ]
  },
  {
   "cell_type": "code",
   "execution_count": null,
   "metadata": {},
   "outputs": [],
   "source": []
  }
 ],
 "metadata": {
  "kernelspec": {
   "display_name": "Python 3",
   "language": "python",
   "name": "python3"
  },
  "language_info": {
   "codemirror_mode": {
    "name": "ipython",
    "version": 3
   },
   "file_extension": ".py",
   "mimetype": "text/x-python",
   "name": "python",
   "nbconvert_exporter": "python",
   "pygments_lexer": "ipython3",
   "version": "3.8.5"
  }
 },
 "nbformat": 4,
 "nbformat_minor": 4
}
