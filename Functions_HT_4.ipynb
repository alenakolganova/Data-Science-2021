{
 "cells": [
  {
   "cell_type": "markdown",
   "metadata": {},
   "source": [
    "### Задание 1"
   ]
  },
  {
   "cell_type": "code",
   "execution_count": 2,
   "metadata": {},
   "outputs": [],
   "source": [
    "documents = [\n",
    "{'type': 'passport', 'number': '2207 876234', 'name': 'Василий Гупкин'},\n",
    "{'type': 'invoice', 'number': '11-2', 'name': 'Геннадий Покемонов'},\n",
    "{'type': 'insurance', 'number': '10006', 'name': 'Аристарх Павлов'}\n",
    "]"
   ]
  },
  {
   "cell_type": "code",
   "execution_count": 3,
   "metadata": {},
   "outputs": [
    {
     "name": "stdout",
     "output_type": "stream",
     "text": [
      "Введите номер документа:10006\n"
     ]
    },
    {
     "data": {
      "text/plain": [
       "'Владелец документа: Аристарх Павлов'"
      ]
     },
     "execution_count": 3,
     "metadata": {},
     "output_type": "execute_result"
    }
   ],
   "source": [
    "#Пользователь по команде “p” может узнать владельца документа по его номеру\n",
    "def person():\n",
    "    number = input('Введите номер документа:')  \n",
    "    res = 'Документ не найден в базе'\n",
    "    for i in documents:\n",
    "        if i['number'] == number:\n",
    "            res = 'Владелец документа: ' + i['name']\n",
    "    return(res)\n",
    " \n",
    "person()"
   ]
  },
  {
   "cell_type": "code",
   "execution_count": 4,
   "metadata": {},
   "outputs": [
    {
     "name": "stdout",
     "output_type": "stream",
     "text": [
      "Введите номер документа:123456\n"
     ]
    },
    {
     "data": {
      "text/plain": [
       "'Документ не найден в базе'"
      ]
     },
     "execution_count": 4,
     "metadata": {},
     "output_type": "execute_result"
    }
   ],
   "source": [
    "person()"
   ]
  },
  {
   "cell_type": "code",
   "execution_count": 5,
   "metadata": {},
   "outputs": [],
   "source": [
    "directories = {\n",
    "'1': ['2207 876234', '11-2'],\n",
    "'2': ['10006'],\n",
    "'3': []\n",
    "}"
   ]
  },
  {
   "cell_type": "code",
   "execution_count": 6,
   "metadata": {},
   "outputs": [
    {
     "name": "stdout",
     "output_type": "stream",
     "text": [
      "Введите номер документа:10006\n"
     ]
    },
    {
     "data": {
      "text/plain": [
       "'Документ хранится на полке:2'"
      ]
     },
     "execution_count": 6,
     "metadata": {},
     "output_type": "execute_result"
    }
   ],
   "source": [
    "#Пользователь по команде 's' может по номеру документа узнать на какой полке он хранится\n",
    "def shelf():\n",
    "    number = input('Введите номер документа:')  \n",
    "    \n",
    "    res = 'Документ не найден в базе'\n",
    "    for i in directories:\n",
    "        if number in directories[i]:\n",
    "             res = 'Документ хранится на полке:' + i\n",
    "    return(res)\n",
    "\n",
    "shelf()"
   ]
  },
  {
   "cell_type": "code",
   "execution_count": 8,
   "metadata": {},
   "outputs": [
    {
     "name": "stdout",
     "output_type": "stream",
     "text": [
      "Введите номер документа:12345\n"
     ]
    },
    {
     "data": {
      "text/plain": [
       "'Документ не найден в базе'"
      ]
     },
     "execution_count": 8,
     "metadata": {},
     "output_type": "execute_result"
    }
   ],
   "source": [
    "shelf()"
   ]
  },
  {
   "cell_type": "code",
   "execution_count": 7,
   "metadata": {},
   "outputs": [
    {
     "name": "stdout",
     "output_type": "stream",
     "text": [
      "№: 2207 876234, тип: passport, владелец: Василий Гупкин, полка хранения: 1\n",
      "№: 11-2, тип: invoice, владелец: Геннадий Покемонов, полка хранения: 1\n",
      "№: 10006, тип: insurance, владелец: Аристарх Павлов, полка хранения: 2\n"
     ]
    }
   ],
   "source": [
    "#Пользователь по команде “l” может увидеть полную информацию по всем документам\n",
    "def info():\n",
    "    for shelf, el in directories.items():\n",
    "        for doc in documents:\n",
    "            if doc['number'] in el:\n",
    "                print(f\"№: {doc['number']}, тип: {doc['type']}, владелец: {doc['name']}, полка хранения: {shelf}\")\n",
    "info()"
   ]
  },
  {
   "cell_type": "code",
   "execution_count": 8,
   "metadata": {},
   "outputs": [
    {
     "name": "stdout",
     "output_type": "stream",
     "text": [
      "Введите номер полки:10\n"
     ]
    },
    {
     "data": {
      "text/plain": [
       "'Полка добавлена. Текущий перечень полок:1,2,3,10'"
      ]
     },
     "execution_count": 8,
     "metadata": {},
     "output_type": "execute_result"
    }
   ],
   "source": [
    "#Пользователь по команде “as” может добавить новую полку\n",
    "def add_shelf():\n",
    "    number_ = input('Введите номер полки:')   \n",
    "    if number_ in directories:\n",
    "        return 'Такая полка уже существует. Текущий перечень полок:' + ','.join(directories.keys())\n",
    "    directories[number_] = []\n",
    "    return 'Полка добавлена. Текущий перечень полок:' + ','.join(directories.keys())\n",
    "\n",
    "add_shelf()"
   ]
  },
  {
   "cell_type": "code",
   "execution_count": 9,
   "metadata": {},
   "outputs": [
    {
     "name": "stdout",
     "output_type": "stream",
     "text": [
      "Введите номер полки:1\n"
     ]
    },
    {
     "data": {
      "text/plain": [
       "'Такая полка уже существует. Текущий перечень полок:1,2,3,10'"
      ]
     },
     "execution_count": 9,
     "metadata": {},
     "output_type": "execute_result"
    }
   ],
   "source": [
    "add_shelf()"
   ]
  },
  {
   "cell_type": "code",
   "execution_count": 10,
   "metadata": {},
   "outputs": [
    {
     "name": "stdout",
     "output_type": "stream",
     "text": [
      "Введите номер полки:3\n",
      "Полка удалена. Текущий перечень полок: 1, 2, 10\n",
      "Такой полки не существует. Текущий перечень полок:1, 2, 10\n"
     ]
    }
   ],
   "source": [
    "#Пользователь по команде “ds” может удалить существующую полку из данных (только если она пустая)\n",
    "def rem_shelf():\n",
    "    number_ = input('Введите номер полки:')\n",
    "    if number_ in directories:\n",
    "        if len(directories[number_]) > 0:\n",
    "            return 'На полке есть документы, удалите их перед удалением полки. Текущий перечень полок: ' + ', '.join(directories.keys())\n",
    "        del directories[number_]\n",
    "        print('Полка удалена. Текущий перечень полок: ' + ', '.join(directories.keys()))\n",
    "    print ('Такой полки не существует. Текущий перечень полок:' + ', '.join(directories.keys()))\n",
    "    \n",
    "rem_shelf()"
   ]
  },
  {
   "cell_type": "code",
   "execution_count": 12,
   "metadata": {},
   "outputs": [
    {
     "name": "stdout",
     "output_type": "stream",
     "text": [
      "Введите номер полки:1\n"
     ]
    },
    {
     "data": {
      "text/plain": [
       "'На полке есть документы, удалите их перед удалением полки. Текущий перечень полок: 1, 2, 10'"
      ]
     },
     "execution_count": 12,
     "metadata": {},
     "output_type": "execute_result"
    }
   ],
   "source": [
    "rem_shelf()"
   ]
  },
  {
   "cell_type": "code",
   "execution_count": 13,
   "metadata": {},
   "outputs": [
    {
     "name": "stdout",
     "output_type": "stream",
     "text": [
      "Введите команду:p\n",
      "Введите номер документа:10006\n",
      "Владелец документа: Аристарх Павлов\n",
      "Введите команду:p\n",
      "Введите номер документа:12345\n",
      "Документ не найден в базе\n",
      "Введите команду:s\n",
      "Введите номер документа:10006\n",
      "Документ хранится на полке:2\n",
      "Введите команду:p\n",
      "Введите номер документа:12345\n",
      "Документ не найден в базе\n",
      "Введите команду:l\n",
      "№: 2207 876234, тип: passport, владелец: Василий Гупкин, полка хранения: 1\n",
      "№: 11-2, тип: invoice, владелец: Геннадий Покемонов, полка хранения: 1\n",
      "№: 10006, тип: insurance, владелец: Аристарх Павлов, полка хранения: 2\n",
      "None\n",
      "Введите команду:as\n",
      "Введите номер полки:10\n",
      "Такая полка уже существует. Текущий перечень полок:1,2,10\n",
      "Введите команду:as\n",
      "Введите номер полки:3\n",
      "Полка добавлена. Текущий перечень полок:1,2,10,3\n",
      "Введите команду:1\n",
      "Введите команду:as\n",
      "Введите номер полки:1\n",
      "Такая полка уже существует. Текущий перечень полок:1,2,10,3\n",
      "Введите команду:ds\n",
      "Введите номер полки:3\n",
      "Полка удалена. Текущий перечень полок: 1, 2, 10\n",
      "Такой полки не существует. Текущий перечень полок:1, 2, 10\n",
      "None\n",
      "Введите команду:ds\n",
      "Введите номер полки:1\n",
      "На полке есть документы, удалите их перед удалением полки. Текущий перечень полок: 1, 2, 10\n",
      "Введите команду:ds\n",
      "Введите номер полки:4\n",
      "Такой полки не существует. Текущий перечень полок:1, 2, 10\n",
      "None\n",
      "Введите команду:q\n",
      "До свидания!\n"
     ]
    }
   ],
   "source": [
    "def main():\n",
    "    while True:\n",
    "        user_input = input('Введите команду:')\n",
    "        if user_input == 'p':\n",
    "            print(person())\n",
    "        elif user_input == 's':\n",
    "            print(shelf())\n",
    "        elif user_input == 'l':\n",
    "            print(info())\n",
    "        elif  user_input == 'as':\n",
    "            print(add_shelf())\n",
    "        elif user_input == 'ds':\n",
    "            print(rem_shelf())\n",
    "        elif user_input == 'q':\n",
    "            print('До свидания!')\n",
    "            break \n",
    "main()           "
   ]
  },
  {
   "cell_type": "code",
   "execution_count": null,
   "metadata": {},
   "outputs": [],
   "source": []
  }
 ],
 "metadata": {
  "kernelspec": {
   "display_name": "Python 3",
   "language": "python",
   "name": "python3"
  },
  "language_info": {
   "codemirror_mode": {
    "name": "ipython",
    "version": 3
   },
   "file_extension": ".py",
   "mimetype": "text/x-python",
   "name": "python",
   "nbconvert_exporter": "python",
   "pygments_lexer": "ipython3",
   "version": "3.8.5"
  }
 },
 "nbformat": 4,
 "nbformat_minor": 4
}
