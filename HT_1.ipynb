{
 "cells": [
  {
   "cell_type": "markdown",
   "metadata": {},
   "source": [
    "### Задание 1"
   ]
  },
  {
   "cell_type": "code",
   "execution_count": 9,
   "metadata": {},
   "outputs": [
    {
     "data": {
      "text/plain": [
       "62"
      ]
     },
     "execution_count": 9,
     "metadata": {},
     "output_type": "execute_result"
    }
   ],
   "source": [
    "phrase_1 = 'Насколько проще было бы писать программы, если бы не заказчики'\n",
    "phrase_2 = '640Кб должно хватить для любых задач. Билл Гейтс (по легенде)'\n",
    "len (phrase_1)"
   ]
  },
  {
   "cell_type": "code",
   "execution_count": 10,
   "metadata": {},
   "outputs": [
    {
     "data": {
      "text/plain": [
       "61"
      ]
     },
     "execution_count": 10,
     "metadata": {},
     "output_type": "execute_result"
    }
   ],
   "source": [
    "phrase_1 = 'Насколько проще было бы писать программы, если бы не заказчики'\n",
    "phrase_2 = '640Кб должно хватить для любых задач. Билл Гейтс (по легенде)'\n",
    "len (phrase_2)"
   ]
  },
  {
   "cell_type": "code",
   "execution_count": 21,
   "metadata": {},
   "outputs": [
    {
     "name": "stdout",
     "output_type": "stream",
     "text": [
      "Фраза 1 длиннее фразы 2\n"
     ]
    }
   ],
   "source": [
    "if len (phrase_1) > len (phrase_2):\n",
    "    print ('Фраза 1 длиннее фразы 2')"
   ]
  },
  {
   "cell_type": "code",
   "execution_count": 23,
   "metadata": {},
   "outputs": [
    {
     "data": {
      "text/plain": [
       "61"
      ]
     },
     "execution_count": 23,
     "metadata": {},
     "output_type": "execute_result"
    }
   ],
   "source": [
    "phrase_1 = '640Кб должно хватить для любых задач. Билл Гейтс (по легенде)'\n",
    "phrase_2 = 'Насколько проще было бы писать программы, если бы не заказчики'\n",
    "len (phrase_1) "
   ]
  },
  {
   "cell_type": "code",
   "execution_count": 24,
   "metadata": {},
   "outputs": [
    {
     "data": {
      "text/plain": [
       "62"
      ]
     },
     "execution_count": 24,
     "metadata": {},
     "output_type": "execute_result"
    }
   ],
   "source": [
    "phrase_1 = '640Кб должно хватить для любых задач. Билл Гейтс (по легенде)'\n",
    "phrase_2 = 'Насколько проще было бы писать программы, если бы не заказчики'\n",
    "len (phrase_2) "
   ]
  },
  {
   "cell_type": "code",
   "execution_count": 25,
   "metadata": {},
   "outputs": [
    {
     "name": "stdout",
     "output_type": "stream",
     "text": [
      "Фраза 2 длиннее фразы 1\n"
     ]
    }
   ],
   "source": [
    "if len (phrase_2) > len (phrase_1):\n",
    "    print ('Фраза 2 длиннее фразы 1')"
   ]
  },
  {
   "cell_type": "code",
   "execution_count": 27,
   "metadata": {},
   "outputs": [
    {
     "data": {
      "text/plain": [
       "62"
      ]
     },
     "execution_count": 27,
     "metadata": {},
     "output_type": "execute_result"
    }
   ],
   "source": [
    "phrase_1 = 'Насколько проще было бы писать программы, если бы не заказчики'\n",
    "phrase_2 = 'Насколько проще было бы писать программы, если бы не заказчики'\n",
    "len ( phrase_1 ) "
   ]
  },
  {
   "cell_type": "code",
   "execution_count": 28,
   "metadata": {},
   "outputs": [
    {
     "data": {
      "text/plain": [
       "62"
      ]
     },
     "execution_count": 28,
     "metadata": {},
     "output_type": "execute_result"
    }
   ],
   "source": [
    "phrase_1 = 'Насколько проще было бы писать программы, если бы не заказчики'\n",
    "phrase_2 = 'Насколько проще было бы писать программы, если бы не заказчики'\n",
    "len ( phrase_2 ) "
   ]
  },
  {
   "cell_type": "code",
   "execution_count": 29,
   "metadata": {},
   "outputs": [
    {
     "name": "stdout",
     "output_type": "stream",
     "text": [
      "Фразы одинаковой длины\n"
     ]
    }
   ],
   "source": [
    "if len (phrase_2) == len (phrase_1):\n",
    "    print ('Фразы одинаковой длины')"
   ]
  },
  {
   "cell_type": "markdown",
   "metadata": {},
   "source": [
    "### Задание 2"
   ]
  },
  {
   "cell_type": "code",
   "execution_count": 1,
   "metadata": {},
   "outputs": [
    {
     "name": "stdout",
     "output_type": "stream",
     "text": [
      "Введите год:2020\n",
      "Високосный\n"
     ]
    }
   ],
   "source": [
    "y = int (input ('Введите год:'))\n",
    "if y % 4 != 0  or ( y % 100 == 0 and y % 400 == 0 ):\n",
    "    print ('Обычный')\n",
    "else:\n",
    "    print ('Високосный')"
   ]
  },
  {
   "cell_type": "code",
   "execution_count": 2,
   "metadata": {},
   "outputs": [
    {
     "name": "stdout",
     "output_type": "stream",
     "text": [
      "Введите год:2019\n",
      "Обычный\n"
     ]
    }
   ],
   "source": [
    "y = int (input ('Введите год:'))\n",
    "if y % 4 != 0  or ( y % 100 == 0 and y % 400 == 0 ):\n",
    "    print ('Обычный')\n",
    "else:\n",
    "    print ('Високосный')"
   ]
  },
  {
   "cell_type": "markdown",
   "metadata": {},
   "source": [
    "## Задание 3 \n",
    "(как сделать так, чтобы вместо числа месяца вводить название месяца, не понимаю)"
   ]
  },
  {
   "cell_type": "code",
   "execution_count": 5,
   "metadata": {},
   "outputs": [
    {
     "name": "stdout",
     "output_type": "stream",
     "text": [
      "Введите день рождения:30\n",
      "Введите месяц рождения:8\n",
      "Знак зодиака: Дева\n"
     ]
    }
   ],
   "source": [
    "date = int (input ('Введите день рождения:'))\n",
    "month = int (input ('Введите месяц рождения:'))\n",
    "Январь = 1\n",
    "Февраль = 2\n",
    "Март = 3\n",
    "Апрель = 4\n",
    "Май = 5\n",
    "Июнь = 6\n",
    "Июль = 7\n",
    "Август = 8\n",
    "Сентябрь = 9\n",
    "Октябрь =10\n",
    "Ноябрь = 11\n",
    "Декабрь = 12\n",
    "if (date >= 21 and date <= 31 and month == 3) or  (date >= 1 and date <= 19 and month == 4 ):\n",
    "    print ('Знак зодиака: Овен')\n",
    "elif (date >= 20 and date <= 30 and month == 4) or  (date >= 1 and date <= 20 and month == 5 ):\n",
    "    print ('Знак зодиака: Телец')\n",
    "elif (date >= 21 and date <= 31 and month == 5) or  (date >= 1 and date <= 20 and month == 6 ):\n",
    "    print ('Знак зодиака: Близнецы')  \n",
    "elif (date >= 21 and date <= 30 and month == 6) or  (date >= 1 and date <= 22 and month == 7 ):\n",
    "    print ('Знак зодиака: Рак')   \n",
    "elif (date >= 23 and date <= 31 and month == 7) or  (date >= 1 and date <= 22 and month == 8 ):\n",
    "    print ('Знак зодиака: Лев')    \n",
    "elif (date >= 23 and date <= 31 and month == 8) or  (date >= 1 and date <= 22 and month == 9 ):\n",
    "    print ('Знак зодиака: Дева')   \n",
    "elif (date >= 23 and date <= 30 and month == 9) or  (date >= 1 and date <= 23 and month == 10 ):\n",
    "    print ('Знак зодиака: Весы')  \n",
    "elif (date >= 24 and date <= 31 and month == 10) or  (date >= 1 and date <= 22 and month == 11 ):\n",
    "    print ('Знак зодиака: Скорпион') \n",
    "elif (date >= 23 and date <= 30 and month == 11) or  (date >= 1 and date <= 21 and month == 12 ):\n",
    "    print ('Знак зодиака: Стрелец')    \n",
    "elif (date >= 21 and date <= 31 and month == 12) or  (date >= 1 and date <= 19 and month == 1 ):\n",
    "    print ('Знак зодиака: Козерог') \n",
    "elif (date >= 20 and date <= 31 and month == 1) or  (date >= 1 and date <= 19 and month == 2 ):\n",
    "    print ('Знак зодиака: Водолей')    \n",
    "elif (date >= 20 and date <= 29 and month == 2) or  (date >= 1 and date <= 20 and month == 3 ):\n",
    "    print ('Знак зодиака: Рыбы')     "
   ]
  },
  {
   "cell_type": "code",
   "execution_count": 6,
   "metadata": {},
   "outputs": [
    {
     "name": "stdout",
     "output_type": "stream",
     "text": [
      "Введите день рождения:29\n",
      "Введите месяц рождения:10\n",
      "Знак зодиака: Скорпион\n"
     ]
    }
   ],
   "source": [
    "date = int (input ('Введите день рождения:'))\n",
    "month = int (input ('Введите месяц рождения:'))\n",
    "Январь = 1\n",
    "Февраль = 2\n",
    "Март = 3\n",
    "Апрель = 4\n",
    "Май = 5\n",
    "Июнь = 6\n",
    "Июль = 7\n",
    "Август = 8\n",
    "Сентябрь = 9\n",
    "Октябрь =10\n",
    "Ноябрь = 11\n",
    "Декабрь = 12\n",
    "if (date >= 21 and date <= 31 and month == 3) or  (date >= 1 and date <= 19 and month == 4 ):\n",
    "    print ('Знак зодиака: Овен')\n",
    "elif (date >= 20 and date <= 30 and month == 4) or  (date >= 1 and date <= 20 and month == 5 ):\n",
    "    print ('Знак зодиака: Телец')\n",
    "elif (date >= 21 and date <= 31 and month == 5) or  (date >= 1 and date <= 20 and month == 6 ):\n",
    "    print ('Знак зодиака: Близнецы')  \n",
    "elif (date >= 21 and date <= 30 and month == 6) or  (date >= 1 and date <= 22 and month == 7 ):\n",
    "    print ('Знак зодиака: Рак')   \n",
    "elif (date >= 23 and date <= 31 and month == 7) or  (date >= 1 and date <= 22 and month == 8 ):\n",
    "    print ('Знак зодиака: Лев')    \n",
    "elif (date >= 23 and date <= 31 and month == 8) or  (date >= 1 and date <= 22 and month == 9 ):\n",
    "    print ('Знак зодиака: Дева')   \n",
    "elif (date >= 23 and date <= 30 and month == 9) or  (date >= 1 and date <= 23 and month == 10 ):\n",
    "    print ('Знак зодиака: Весы')  \n",
    "elif (date >= 24 and date <= 31 and month == 10) or  (date >= 1 and date <= 22 and month == 11 ):\n",
    "    print ('Знак зодиака: Скорпион') \n",
    "elif (date >= 23 and date <= 30 and month == 11) or  (date >= 1 and date <= 21 and month == 12 ):\n",
    "    print ('Знак зодиака: Стрелец')    \n",
    "elif (date >= 21 and date <= 31 and month == 12) or  (date >= 1 and date <= 19 and month == 1 ):\n",
    "    print ('Знак зодиака: Козерог') \n",
    "elif (date >= 20 and date <= 31 and month == 1) or  (date >= 1 and date <= 19 and month == 2 ):\n",
    "    print ('Знак зодиака: Водолей')    \n",
    "elif (date >= 20 and date <= 29 and month == 2) or  (date >= 1 and date <= 20 and month == 3 ):\n",
    "    print ('Знак зодиака: Рыбы')    "
   ]
  },
  {
   "cell_type": "markdown",
   "metadata": {},
   "source": [
    "## Задание 4"
   ]
  },
  {
   "cell_type": "code",
   "execution_count": 7,
   "metadata": {},
   "outputs": [
    {
     "name": "stdout",
     "output_type": "stream",
     "text": [
      "Введите ширину:15\n",
      "Введите длину:50\n",
      "Введите высоту: 15\n",
      "Коробка № 3\n"
     ]
    }
   ],
   "source": [
    "width = int (input ('Введите ширину:'))\n",
    "length = int (input ('Введите длину:'))\n",
    "heihgt = int (input ('Введите высоту: '))\n",
    "if width < 15 and length < 15 and heihgt < 15:\n",
    "    print ('Коробка № 1')\n",
    "elif width > 15 and width < 50 and length > 15 and length < 50 and heihgt > 15 and heihgt < 50:\n",
    "    print ('Коробка № 2')\n",
    "elif length > 200:\n",
    "        print ('Упаковка для лыж')\n",
    "else: \n",
    "    print ('Коробка № 3')"
   ]
  },
  {
   "cell_type": "code",
   "execution_count": 8,
   "metadata": {},
   "outputs": [
    {
     "name": "stdout",
     "output_type": "stream",
     "text": [
      "Введите ширину:45\n",
      "Введите длину:205\n",
      "Введите высоту: 45\n",
      "Упаковка для лыж\n"
     ]
    }
   ],
   "source": [
    "width = int (input ('Введите ширину:'))\n",
    "length = int (input ('Введите длину:'))\n",
    "heihgt = int (input ('Введите высоту: '))\n",
    "if width < 15 and length < 15 and heihgt < 15:\n",
    "    print ('Коробка № 1')\n",
    "elif width > 15 and width < 50 and length > 15 and length < 50 and heihgt > 15 and heihgt < 50:\n",
    "    print ('Коробка № 2')\n",
    "elif length > 200:\n",
    "        print ('Упаковка для лыж')\n",
    "else: \n",
    "    print ('Коробка № 3')"
   ]
  },
  {
   "cell_type": "markdown",
   "metadata": {},
   "source": [
    "## Задание 5"
   ]
  },
  {
   "cell_type": "code",
   "execution_count": 1,
   "metadata": {},
   "outputs": [
    {
     "name": "stdout",
     "output_type": "stream",
     "text": [
      "123456\n",
      "Обычный\n"
     ]
    }
   ],
   "source": [
    "a = int(input())\n",
    "if (a // 100000 % 10) + a // 10000 % 10 + a // 1000 % 10 == a //100 % 10 + a //10 % 10 + a //1 % 10:\n",
    "    print (\"Счастливый\")\n",
    "else:\n",
    "    print (\"Обычный\")"
   ]
  },
  {
   "cell_type": "code",
   "execution_count": 2,
   "metadata": {},
   "outputs": [
    {
     "name": "stdout",
     "output_type": "stream",
     "text": [
      "123321\n",
      "Счастливый\n"
     ]
    }
   ],
   "source": [
    "a = int(input())\n",
    "if (a // 100000 % 10) + a // 10000 % 10 + a // 1000 % 10 == a //100 % 10 + a //10 % 10 + a //1 % 10:\n",
    "    print (\"Счастливый\")\n",
    "else:\n",
    "    print (\"Обычный\")"
   ]
  },
  {
   "cell_type": "markdown",
   "metadata": {},
   "source": [
    "## Задание 6"
   ]
  },
  {
   "cell_type": "code",
   "execution_count": null,
   "metadata": {},
   "outputs": [],
   "source": []
  }
 ],
 "metadata": {
  "kernelspec": {
   "display_name": "Python 3",
   "language": "python",
   "name": "python3"
  },
  "language_info": {
   "codemirror_mode": {
    "name": "ipython",
    "version": 3
   },
   "file_extension": ".py",
   "mimetype": "text/x-python",
   "name": "python",
   "nbconvert_exporter": "python",
   "pygments_lexer": "ipython3",
   "version": "3.8.5"
  }
 },
 "nbformat": 4,
 "nbformat_minor": 4
}
